{
  "nbformat": 4,
  "nbformat_minor": 0,
  "metadata": {
    "colab": {
      "provenance": [],
      "authorship_tag": "ABX9TyNmIsNwC2wqr4lZ8vRMfc72",
      "include_colab_link": true
    },
    "kernelspec": {
      "name": "python3",
      "display_name": "Python 3"
    },
    "language_info": {
      "name": "python"
    }
  },
  "cells": [
    {
      "cell_type": "markdown",
      "metadata": {
        "id": "view-in-github",
        "colab_type": "text"
      },
      "source": [
        "<a href=\"https://colab.research.google.com/github/Ahsan-Tahir-Programming/New-Year-CountDown-/blob/main/wasabiconnection.ipynb\" target=\"_parent\"><img src=\"https://colab.research.google.com/assets/colab-badge.svg\" alt=\"Open In Colab\"/></a>"
      ]
    },
    {
      "cell_type": "code",
      "execution_count": null,
      "metadata": {
        "colab": {
          "base_uri": "https://localhost:8080/"
        },
        "id": "H3ONYtfLUdeo",
        "outputId": "261d4f8a-0973-4ee8-f795-f1bdbdc23884"
      },
      "outputs": [
        {
          "output_type": "stream",
          "name": "stdout",
          "text": [
            "Mounted at /content/drive\n"
          ]
        }
      ],
      "source": [
        "from google.colab import drive\n",
        "drive.mount('/content/drive')"
      ]
    },
    {
      "cell_type": "code",
      "source": [
        "!pip install boto3"
      ],
      "metadata": {
        "colab": {
          "base_uri": "https://localhost:8080/"
        },
        "id": "MiCq6eWUsGlW",
        "outputId": "b11440a4-dc62-4390-ee98-1da30c9c0cc3"
      },
      "execution_count": null,
      "outputs": [
        {
          "output_type": "stream",
          "name": "stdout",
          "text": [
            "Requirement already satisfied: boto3 in /usr/local/lib/python3.10/dist-packages (1.35.90)\n",
            "Requirement already satisfied: botocore<1.36.0,>=1.35.90 in /usr/local/lib/python3.10/dist-packages (from boto3) (1.35.90)\n",
            "Requirement already satisfied: jmespath<2.0.0,>=0.7.1 in /usr/local/lib/python3.10/dist-packages (from boto3) (1.0.1)\n",
            "Requirement already satisfied: s3transfer<0.11.0,>=0.10.0 in /usr/local/lib/python3.10/dist-packages (from boto3) (0.10.4)\n",
            "Requirement already satisfied: python-dateutil<3.0.0,>=2.1 in /usr/local/lib/python3.10/dist-packages (from botocore<1.36.0,>=1.35.90->boto3) (2.8.2)\n",
            "Requirement already satisfied: urllib3!=2.2.0,<3,>=1.25.4 in /usr/local/lib/python3.10/dist-packages (from botocore<1.36.0,>=1.35.90->boto3) (2.2.3)\n",
            "Requirement already satisfied: six>=1.5 in /usr/local/lib/python3.10/dist-packages (from python-dateutil<3.0.0,>=2.1->botocore<1.36.0,>=1.35.90->boto3) (1.17.0)\n"
          ]
        }
      ]
    },
    {
      "cell_type": "code",
      "source": [
        "import boto3\n",
        "\n",
        "# our Wasabi credentials\n",
        "\n",
        "# S3_SECRET_KEY = \"ufBP0bbLHYza5JoWiCZRYlvbwaOlptXTVgbfL0uA\";\n",
        "\n",
        "# S3_ACCESS_KEY = \"MGX816H26T7LE8YAVU69\";\n",
        "\n",
        "# S3_BASE_URL_VIEW = \"https://s3.us-east-1.wasabisys.com/\"+S3_BUCKET_NAME+\"/\";\n",
        "\n",
        "ACCESS_KEY = 'MGX816H26T7LE8YAVU69'\n",
        "SECRET_KEY = 'ufBP0bbLHYza5JoWiCZRYlvbwaOlptXTVgbfL0uA'\n",
        "BUCKET_NAME = 'ir-training-dataset'\n",
        "WASABI_ENDPOINT =\"https://s3.us-west-1.wasabisys.com\";  # simple link\n",
        "\n",
        "# an S3 client\n",
        "s3_client = boto3.client('s3',\n",
        "                         aws_access_key_id=ACCESS_KEY,\n",
        "                         aws_secret_access_key=SECRET_KEY,\n",
        "                         endpoint_url=WASABI_ENDPOINT)\n",
        "print(f\"connection successfull with: {s3_client}\")\n",
        "\n",
        "# List all files in the bucket to verify connection\n",
        "\n",
        "# response = s3_client.list_objects_v2(Bucket=BUCKET_NAME)\n",
        "# for obj in response.get('Contents', []):\n",
        "#     print(obj['Key'])\n"
      ],
      "metadata": {
        "colab": {
          "base_uri": "https://localhost:8080/"
        },
        "id": "2yk81jGiVqMO",
        "outputId": "5f2aad95-578b-414c-8911-77305e7e7916"
      },
      "execution_count": null,
      "outputs": [
        {
          "output_type": "stream",
          "name": "stdout",
          "text": [
            "connection successfull with: <botocore.client.S3 object at 0x7aee2c0f80d0>\n"
          ]
        }
      ]
    },
    {
      "cell_type": "code",
      "source": [
        "\n",
        "file_path = \"/content/drive/MyDrive/Models/Chiller_Model/Final_Chiller_Data_Diverse_For_Yolov8s/split_chiller_dataset_for_yolov8/data.yaml\"  # Local file in (Colab) google drive\n",
        "\n",
        "# path where the file is stored , if we don't give any path they stored by default in given available bucket (like ir-training-dataset)\n",
        "\n",
        "key = \"test/data.yaml\"  # Key (path) in Wasabi bucket\n",
        "\n",
        "# for Upload the file\n",
        "s3_client.upload_file(file_path, BUCKET_NAME, key)\n",
        "print(f\"File uploaded to Wasabi: {BUCKET_NAME}/{key}\")\n"
      ],
      "metadata": {
        "colab": {
          "base_uri": "https://localhost:8080/"
        },
        "id": "ruZU8puRpuG7",
        "outputId": "d41199e6-ff07-43d5-c48f-869bd2f296e1"
      },
      "execution_count": null,
      "outputs": [
        {
          "output_type": "stream",
          "name": "stdout",
          "text": [
            "File uploaded to Wasabi: ir-training-dataset/test/data.yaml\n"
          ]
        }
      ]
    }
  ]
}